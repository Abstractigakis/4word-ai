{
 "cells": [
  {
   "cell_type": "markdown",
   "id": "38a4e795-7fad-45de-a4fd-63069307576d",
   "metadata": {},
   "source": [
    "# 4word AI\n",
    "\n",
    "The purpose of this repo is to generate puzzles for the 4 word game.  The challenge is estimating how a difficult a puzzle is given that we lack real user data.  When we dont have data, machine learning cant work, so we have to rely on math to generate smart heuristics.\n",
    "\n",
    "## Approach\n",
    "\n",
    "We want to use the minimum possible solve path as the main metric for the difficulty. This almost does well enough on its own, accept for 2 caveats.\n",
    "\n",
    "1. This apporach does not account for the number of paths from a to b assume a puzzle is solved in only a few steps, but it there is only one way to do it.  If the player does not know this word, they will be forced to guess, or be stuck\n",
    "2. We dont account for word frequency.  i.e. say a game is solvable in a short amount of steps, but it requires the user to know a very obscure word.  In this case the puzzle should be more difficult"
   ]
  },
  {
   "cell_type": "markdown",
   "id": "05df3107-fad4-42e7-845d-137686184884",
   "metadata": {},
   "source": [
    "## Get words sorted by frequency\n",
    "\n",
    "Knowing how frequently the words are used will serve usefull when considering how difficult a game is\n",
    "\n",
    "Data source: https://en.wiktionary.org/wiki/Wiktionary:Frequency_lists\n",
    "\n",
    "let $U_{l}$ be the universe of all words of length $l$"
   ]
  },
  {
   "cell_type": "code",
   "execution_count": 1,
   "id": "7164ff49-cd4f-4af6-9bf9-d4bb87f0eaa1",
   "metadata": {},
   "outputs": [
    {
     "data": {
      "text/html": [
       "<div>\n",
       "<style scoped>\n",
       "    .dataframe tbody tr th:only-of-type {\n",
       "        vertical-align: middle;\n",
       "    }\n",
       "\n",
       "    .dataframe tbody tr th {\n",
       "        vertical-align: top;\n",
       "    }\n",
       "\n",
       "    .dataframe thead th {\n",
       "        text-align: right;\n",
       "    }\n",
       "</style>\n",
       "<table border=\"1\" class=\"dataframe\">\n",
       "  <thead>\n",
       "    <tr style=\"text-align: right;\">\n",
       "      <th></th>\n",
       "      <th>word</th>\n",
       "      <th>count</th>\n",
       "    </tr>\n",
       "  </thead>\n",
       "  <tbody>\n",
       "    <tr>\n",
       "      <th>0</th>\n",
       "      <td>THAT</td>\n",
       "      <td>413389</td>\n",
       "    </tr>\n",
       "    <tr>\n",
       "      <th>1</th>\n",
       "      <td>WHAT</td>\n",
       "      <td>285826</td>\n",
       "    </tr>\n",
       "    <tr>\n",
       "      <th>2</th>\n",
       "      <td>THIS</td>\n",
       "      <td>249860</td>\n",
       "    </tr>\n",
       "    <tr>\n",
       "      <th>3</th>\n",
       "      <td>KNOW</td>\n",
       "      <td>241548</td>\n",
       "    </tr>\n",
       "    <tr>\n",
       "      <th>4</th>\n",
       "      <td>HAVE</td>\n",
       "      <td>210523</td>\n",
       "    </tr>\n",
       "    <tr>\n",
       "      <th>...</th>\n",
       "      <td>...</td>\n",
       "      <td>...</td>\n",
       "    </tr>\n",
       "    <tr>\n",
       "      <th>3200</th>\n",
       "      <td>APPS</td>\n",
       "      <td>6</td>\n",
       "    </tr>\n",
       "    <tr>\n",
       "      <th>3201</th>\n",
       "      <td>ANKA</td>\n",
       "      <td>6</td>\n",
       "    </tr>\n",
       "    <tr>\n",
       "      <th>3202</th>\n",
       "      <td>ANDA</td>\n",
       "      <td>6</td>\n",
       "    </tr>\n",
       "    <tr>\n",
       "      <th>3203</th>\n",
       "      <td>AMAH</td>\n",
       "      <td>6</td>\n",
       "    </tr>\n",
       "    <tr>\n",
       "      <th>3204</th>\n",
       "      <td>AFIS</td>\n",
       "      <td>6</td>\n",
       "    </tr>\n",
       "  </tbody>\n",
       "</table>\n",
       "<p>3205 rows × 2 columns</p>\n",
       "</div>"
      ],
      "text/plain": [
       "      word   count\n",
       "0     THAT  413389\n",
       "1     WHAT  285826\n",
       "2     THIS  249860\n",
       "3     KNOW  241548\n",
       "4     HAVE  210523\n",
       "...    ...     ...\n",
       "3200  APPS       6\n",
       "3201  ANKA       6\n",
       "3202  ANDA       6\n",
       "3203  AMAH       6\n",
       "3204  AFIS       6\n",
       "\n",
       "[3205 rows x 2 columns]"
      ]
     },
     "execution_count": 1,
     "metadata": {},
     "output_type": "execute_result"
    }
   ],
   "source": [
    "from src.build4WordUniverse import processRawWikiDataIntoPaginatedData\n",
    "\n",
    "U=processRawWikiDataIntoPaginatedData()\n",
    "U"
   ]
  },
  {
   "cell_type": "markdown",
   "id": "68a487b2-06fe-4a3e-b306-f1b8cb1155cd",
   "metadata": {},
   "source": [
    "We notice that we have only 3200 words of length 4 form the data that we collected.  Any words discovered later will be appended to the back, with a count of 0.  This data is saved in `data/4words/universe.csv` and `data/4words/univrse.json` for easy retrival."
   ]
  },
  {
   "cell_type": "markdown",
   "id": "666a4f77-91ff-4dd5-b6fd-f69a7bb28e7b",
   "metadata": {},
   "source": [
    "\n",
    "Before we start going right for the gola, we will stop and think what data structures emerge.  \n",
    "\n",
    "The first the comes to mind is a graph where each node is a word, and the edges are present if we can change 1 letter of the word to get from one to the other.  Note, this relationship is symetric.  Using this model, we can see a game is possible, $\\iff$ there exists a path.\n",
    "\n",
    "Thee first quantitty we want to calculate is a boolean matrix that represents if we can get from word a to word b in 1 move.  We will use this as a helper to do quick look ups.  The runtime for calculating this matrix is $O(D^2)$\n",
    "\n"
   ]
  },
  {
   "cell_type": "code",
   "execution_count": null,
   "id": "6ae19288-5163-4db2-8908-da272e86ae67",
   "metadata": {},
   "outputs": [],
   "source": []
  }
 ],
 "metadata": {
  "kernelspec": {
   "display_name": "Python 3 (ipykernel)",
   "language": "python",
   "name": "python3"
  },
  "language_info": {
   "codemirror_mode": {
    "name": "ipython",
    "version": 3
   },
   "file_extension": ".py",
   "mimetype": "text/x-python",
   "name": "python",
   "nbconvert_exporter": "python",
   "pygments_lexer": "ipython3",
   "version": "3.10.4"
  }
 },
 "nbformat": 4,
 "nbformat_minor": 5
}
